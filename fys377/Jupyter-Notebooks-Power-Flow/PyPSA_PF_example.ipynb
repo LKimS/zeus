{
 "cells": [
  {
   "cell_type": "markdown",
   "id": "69334c53-d7fd-4054-9e4b-b5aae6c9b739",
   "metadata": {},
   "source": [
    "# Single load and generator with `PyPSA`(pipes-ah)\n",
    "\n",
    "This is an introduction to the usage of the `PyPSA` **power flow** for a 2-bus system.\n",
    "This example is adapted from the [`PyPSA` example for PF](https://github.com/PyPSA/PyPSA/blob/master/examples/notebooks/minimal_example_pf.ipynb). The installation of `PyPSA` is included at the bottom of this script. "
   ]
  },
  {
   "cell_type": "code",
   "execution_count": 1,
   "id": "80633bc2-a99f-4a20-8070-37b4fbaca69b",
   "metadata": {},
   "outputs": [],
   "source": [
    "import pypsa\n",
    "\n",
    "import warnings\n",
    "warnings.filterwarnings('ignore')"
   ]
  },
  {
   "cell_type": "markdown",
   "id": "d8c0cca9-6fee-47fb-a2f2-c3a3b536e992",
   "metadata": {},
   "source": [
    "Create an empty network"
   ]
  },
  {
   "cell_type": "code",
   "execution_count": 2,
   "id": "7f964742-6b48-4813-94e7-a0d1c094d1ce",
   "metadata": {},
   "outputs": [],
   "source": [
    "n = pypsa.Network()"
   ]
  },
  {
   "cell_type": "markdown",
   "id": "fe46328f-fb95-494b-a02a-6ffa1949cb2d",
   "metadata": {},
   "source": [
    "Add two buses"
   ]
  },
  {
   "cell_type": "code",
   "execution_count": 3,
   "id": "4f010609-ea77-4a89-8b2f-306b989ccde0",
   "metadata": {},
   "outputs": [],
   "source": [
    "n.add(\"Bus\", \"Bus Gen\", v_nom=.230)  # PyPSA works in kV\n",
    "n.add(\"Bus\", \"Bus Load\", v_nom=.230) # v_mag_pu_min=0.95, v_mag_pu_max=1.05"
   ]
  },
  {
   "cell_type": "code",
   "execution_count": 4,
   "id": "0864ed41-4567-43f8-82f0-303f2b9b0e21",
   "metadata": {},
   "outputs": [
    {
     "data": {
      "text/html": [
       "<div>\n",
       "<style scoped>\n",
       "    .dataframe tbody tr th:only-of-type {\n",
       "        vertical-align: middle;\n",
       "    }\n",
       "\n",
       "    .dataframe tbody tr th {\n",
       "        vertical-align: top;\n",
       "    }\n",
       "\n",
       "    .dataframe thead th {\n",
       "        text-align: right;\n",
       "    }\n",
       "</style>\n",
       "<table border=\"1\" class=\"dataframe\">\n",
       "  <thead>\n",
       "    <tr style=\"text-align: right;\">\n",
       "      <th>attribute</th>\n",
       "      <th>v_nom</th>\n",
       "      <th>type</th>\n",
       "      <th>x</th>\n",
       "      <th>y</th>\n",
       "      <th>carrier</th>\n",
       "      <th>unit</th>\n",
       "      <th>v_mag_pu_set</th>\n",
       "      <th>v_mag_pu_min</th>\n",
       "      <th>v_mag_pu_max</th>\n",
       "      <th>control</th>\n",
       "      <th>sub_network</th>\n",
       "    </tr>\n",
       "    <tr>\n",
       "      <th>Bus</th>\n",
       "      <th></th>\n",
       "      <th></th>\n",
       "      <th></th>\n",
       "      <th></th>\n",
       "      <th></th>\n",
       "      <th></th>\n",
       "      <th></th>\n",
       "      <th></th>\n",
       "      <th></th>\n",
       "      <th></th>\n",
       "      <th></th>\n",
       "    </tr>\n",
       "  </thead>\n",
       "  <tbody>\n",
       "    <tr>\n",
       "      <th>Bus Gen</th>\n",
       "      <td>0.23</td>\n",
       "      <td></td>\n",
       "      <td>0.0</td>\n",
       "      <td>0.0</td>\n",
       "      <td>AC</td>\n",
       "      <td></td>\n",
       "      <td>1.0</td>\n",
       "      <td>0.0</td>\n",
       "      <td>inf</td>\n",
       "      <td>PQ</td>\n",
       "      <td></td>\n",
       "    </tr>\n",
       "    <tr>\n",
       "      <th>Bus Load</th>\n",
       "      <td>0.23</td>\n",
       "      <td></td>\n",
       "      <td>0.0</td>\n",
       "      <td>0.0</td>\n",
       "      <td>AC</td>\n",
       "      <td></td>\n",
       "      <td>1.0</td>\n",
       "      <td>0.0</td>\n",
       "      <td>inf</td>\n",
       "      <td>PQ</td>\n",
       "      <td></td>\n",
       "    </tr>\n",
       "  </tbody>\n",
       "</table>\n",
       "</div>"
      ],
      "text/plain": [
       "attribute  v_nom type    x    y carrier unit  v_mag_pu_set  v_mag_pu_min  \\\n",
       "Bus                                                                        \n",
       "Bus Gen     0.23       0.0  0.0      AC                1.0           0.0   \n",
       "Bus Load    0.23       0.0  0.0      AC                1.0           0.0   \n",
       "\n",
       "attribute  v_mag_pu_max control sub_network  \n",
       "Bus                                          \n",
       "Bus Gen             inf      PQ              \n",
       "Bus Load            inf      PQ              "
      ]
     },
     "execution_count": 4,
     "metadata": {},
     "output_type": "execute_result"
    }
   ],
   "source": [
    "n.buses"
   ]
  },
  {
   "cell_type": "markdown",
   "id": "cb5794c9-e677-43bd-8f98-6200675ea91d",
   "metadata": {},
   "source": [
    "Add a line between the generator and the load"
   ]
  },
  {
   "cell_type": "code",
   "execution_count": 5,
   "id": "06783787-17f7-40a5-b477-c7c811298f96",
   "metadata": {},
   "outputs": [],
   "source": [
    "n.add(\"Line\", name=\"Line\", bus0=\"Bus Gen\", bus1=\"Bus Load\", x=0.1, r=0.01)"
   ]
  },
  {
   "cell_type": "code",
   "execution_count": 6,
   "id": "45fa589e-82ff-4c6c-ade0-3033b1bcdf8d",
   "metadata": {},
   "outputs": [
    {
     "data": {
      "text/html": [
       "<div>\n",
       "<style scoped>\n",
       "    .dataframe tbody tr th:only-of-type {\n",
       "        vertical-align: middle;\n",
       "    }\n",
       "\n",
       "    .dataframe tbody tr th {\n",
       "        vertical-align: top;\n",
       "    }\n",
       "\n",
       "    .dataframe thead th {\n",
       "        text-align: right;\n",
       "    }\n",
       "</style>\n",
       "<table border=\"1\" class=\"dataframe\">\n",
       "  <thead>\n",
       "    <tr style=\"text-align: right;\">\n",
       "      <th>attribute</th>\n",
       "      <th>bus0</th>\n",
       "      <th>bus1</th>\n",
       "      <th>type</th>\n",
       "      <th>x</th>\n",
       "      <th>r</th>\n",
       "      <th>g</th>\n",
       "      <th>b</th>\n",
       "      <th>s_nom</th>\n",
       "      <th>s_nom_extendable</th>\n",
       "      <th>s_nom_min</th>\n",
       "      <th>...</th>\n",
       "      <th>v_ang_min</th>\n",
       "      <th>v_ang_max</th>\n",
       "      <th>sub_network</th>\n",
       "      <th>x_pu</th>\n",
       "      <th>r_pu</th>\n",
       "      <th>g_pu</th>\n",
       "      <th>b_pu</th>\n",
       "      <th>x_pu_eff</th>\n",
       "      <th>r_pu_eff</th>\n",
       "      <th>s_nom_opt</th>\n",
       "    </tr>\n",
       "    <tr>\n",
       "      <th>Line</th>\n",
       "      <th></th>\n",
       "      <th></th>\n",
       "      <th></th>\n",
       "      <th></th>\n",
       "      <th></th>\n",
       "      <th></th>\n",
       "      <th></th>\n",
       "      <th></th>\n",
       "      <th></th>\n",
       "      <th></th>\n",
       "      <th></th>\n",
       "      <th></th>\n",
       "      <th></th>\n",
       "      <th></th>\n",
       "      <th></th>\n",
       "      <th></th>\n",
       "      <th></th>\n",
       "      <th></th>\n",
       "      <th></th>\n",
       "      <th></th>\n",
       "      <th></th>\n",
       "    </tr>\n",
       "  </thead>\n",
       "  <tbody>\n",
       "    <tr>\n",
       "      <th>Line</th>\n",
       "      <td>Bus Gen</td>\n",
       "      <td>Bus Load</td>\n",
       "      <td></td>\n",
       "      <td>0.1</td>\n",
       "      <td>0.01</td>\n",
       "      <td>0.0</td>\n",
       "      <td>0.0</td>\n",
       "      <td>0.0</td>\n",
       "      <td>False</td>\n",
       "      <td>0.0</td>\n",
       "      <td>...</td>\n",
       "      <td>-inf</td>\n",
       "      <td>inf</td>\n",
       "      <td></td>\n",
       "      <td>0.0</td>\n",
       "      <td>0.0</td>\n",
       "      <td>0.0</td>\n",
       "      <td>0.0</td>\n",
       "      <td>0.0</td>\n",
       "      <td>0.0</td>\n",
       "      <td>0.0</td>\n",
       "    </tr>\n",
       "  </tbody>\n",
       "</table>\n",
       "<p>1 rows × 29 columns</p>\n",
       "</div>"
      ],
      "text/plain": [
       "attribute     bus0      bus1 type    x     r    g    b  s_nom  \\\n",
       "Line                                                            \n",
       "Line       Bus Gen  Bus Load       0.1  0.01  0.0  0.0    0.0   \n",
       "\n",
       "attribute  s_nom_extendable  s_nom_min  ...  v_ang_min  v_ang_max  \\\n",
       "Line                                    ...                         \n",
       "Line                  False        0.0  ...       -inf        inf   \n",
       "\n",
       "attribute  sub_network  x_pu  r_pu  g_pu b_pu  x_pu_eff  r_pu_eff  s_nom_opt  \n",
       "Line                                                                          \n",
       "Line                     0.0   0.0   0.0  0.0       0.0       0.0        0.0  \n",
       "\n",
       "[1 rows x 29 columns]"
      ]
     },
     "execution_count": 6,
     "metadata": {},
     "output_type": "execute_result"
    }
   ],
   "source": [
    "n.lines"
   ]
  },
  {
   "cell_type": "code",
   "execution_count": 7,
   "id": "887192e6-66d6-43eb-bd62-c9409a3d88a3",
   "metadata": {},
   "outputs": [
    {
     "data": {
      "image/png": "[encoded data removed]",
      "text/plain": [
       "<Figure size 640x480 with 1 Axes>"
      ]
     },
     "metadata": {},
     "output_type": "display_data"
    }
   ],
   "source": [
    "n.plot();"
   ]
  },
  {
   "cell_type": "markdown",
   "id": "9864260a-0e0f-48c6-b80d-e4e4600317e9",
   "metadata": {},
   "source": [
    "Add a generator with no preset power. The power will be adjusted to match the load."
   ]
  },
  {
   "cell_type": "code",
   "execution_count": 8,
   "id": "3c164d4b-d6fa-4257-bb3a-3680c7026292",
   "metadata": {},
   "outputs": [],
   "source": [
    "n.add(\"Generator\", \"Generator\", bus=\"Bus Gen\", control='PQ') # This generator can adapt to the load"
   ]
  },
  {
   "cell_type": "code",
   "execution_count": 9,
   "id": "3be9a8ed-f8bb-44fe-bcb4-3cc2f412c991",
   "metadata": {},
   "outputs": [
    {
     "data": {
      "text/html": [
       "<div>\n",
       "<style scoped>\n",
       "    .dataframe tbody tr th:only-of-type {\n",
       "        vertical-align: middle;\n",
       "    }\n",
       "\n",
       "    .dataframe tbody tr th {\n",
       "        vertical-align: top;\n",
       "    }\n",
       "\n",
       "    .dataframe thead th {\n",
       "        text-align: right;\n",
       "    }\n",
       "</style>\n",
       "<table border=\"1\" class=\"dataframe\">\n",
       "  <thead>\n",
       "    <tr style=\"text-align: right;\">\n",
       "      <th>attribute</th>\n",
       "      <th>bus</th>\n",
       "      <th>control</th>\n",
       "      <th>type</th>\n",
       "      <th>p_nom</th>\n",
       "      <th>p_nom_extendable</th>\n",
       "      <th>p_nom_min</th>\n",
       "      <th>p_nom_max</th>\n",
       "      <th>p_min_pu</th>\n",
       "      <th>p_max_pu</th>\n",
       "      <th>p_set</th>\n",
       "      <th>...</th>\n",
       "      <th>min_up_time</th>\n",
       "      <th>min_down_time</th>\n",
       "      <th>up_time_before</th>\n",
       "      <th>down_time_before</th>\n",
       "      <th>ramp_limit_up</th>\n",
       "      <th>ramp_limit_down</th>\n",
       "      <th>ramp_limit_start_up</th>\n",
       "      <th>ramp_limit_shut_down</th>\n",
       "      <th>weight</th>\n",
       "      <th>p_nom_opt</th>\n",
       "    </tr>\n",
       "    <tr>\n",
       "      <th>Generator</th>\n",
       "      <th></th>\n",
       "      <th></th>\n",
       "      <th></th>\n",
       "      <th></th>\n",
       "      <th></th>\n",
       "      <th></th>\n",
       "      <th></th>\n",
       "      <th></th>\n",
       "      <th></th>\n",
       "      <th></th>\n",
       "      <th></th>\n",
       "      <th></th>\n",
       "      <th></th>\n",
       "      <th></th>\n",
       "      <th></th>\n",
       "      <th></th>\n",
       "      <th></th>\n",
       "      <th></th>\n",
       "      <th></th>\n",
       "      <th></th>\n",
       "      <th></th>\n",
       "    </tr>\n",
       "  </thead>\n",
       "  <tbody>\n",
       "    <tr>\n",
       "      <th>Generator</th>\n",
       "      <td>Bus Gen</td>\n",
       "      <td>PQ</td>\n",
       "      <td></td>\n",
       "      <td>0.0</td>\n",
       "      <td>False</td>\n",
       "      <td>0.0</td>\n",
       "      <td>inf</td>\n",
       "      <td>0.0</td>\n",
       "      <td>1.0</td>\n",
       "      <td>0.0</td>\n",
       "      <td>...</td>\n",
       "      <td>0</td>\n",
       "      <td>0</td>\n",
       "      <td>1</td>\n",
       "      <td>0</td>\n",
       "      <td>NaN</td>\n",
       "      <td>NaN</td>\n",
       "      <td>1.0</td>\n",
       "      <td>1.0</td>\n",
       "      <td>1.0</td>\n",
       "      <td>0.0</td>\n",
       "    </tr>\n",
       "  </tbody>\n",
       "</table>\n",
       "<p>1 rows × 33 columns</p>\n",
       "</div>"
      ],
      "text/plain": [
       "attribute      bus control type  p_nom  p_nom_extendable  p_nom_min  \\\n",
       "Generator                                                             \n",
       "Generator  Bus Gen      PQ         0.0             False        0.0   \n",
       "\n",
       "attribute  p_nom_max  p_min_pu  p_max_pu  p_set  ...  min_up_time  \\\n",
       "Generator                                        ...                \n",
       "Generator        inf       0.0       1.0    0.0  ...            0   \n",
       "\n",
       "attribute  min_down_time up_time_before  down_time_before  ramp_limit_up  \\\n",
       "Generator                                                                  \n",
       "Generator              0              1                 0            NaN   \n",
       "\n",
       "attribute  ramp_limit_down  ramp_limit_start_up  ramp_limit_shut_down  weight  \\\n",
       "Generator                                                                       \n",
       "Generator              NaN                  1.0                   1.0     1.0   \n",
       "\n",
       "attribute  p_nom_opt  \n",
       "Generator             \n",
       "Generator        0.0  \n",
       "\n",
       "[1 rows x 33 columns]"
      ]
     },
     "execution_count": 9,
     "metadata": {},
     "output_type": "execute_result"
    }
   ],
   "source": [
    "n.generators"
   ]
  },
  {
   "cell_type": "markdown",
   "id": "c6a33ab6-e5b0-427b-b5a9-161262ffb46b",
   "metadata": {},
   "source": [
    "Add a load with **150** kW and **5** kVar"
   ]
  },
  {
   "cell_type": "code",
   "execution_count": 10,
   "id": "ffe7b119-cee4-4490-ac4d-056b1c94958b",
   "metadata": {},
   "outputs": [],
   "source": [
    "n.add(\"Load\", \"Load\", bus=\"Bus Load\", p_set=0.15, q_set=0.05) # power in PyPSA is given in MW, thus 0.15 MW = 150 kW"
   ]
  },
  {
   "cell_type": "code",
   "execution_count": 11,
   "id": "9b4e6f08-2376-4aeb-bca5-f32c789c2e2c",
   "metadata": {},
   "outputs": [
    {
     "data": {
      "text/html": [
       "<div>\n",
       "<style scoped>\n",
       "    .dataframe tbody tr th:only-of-type {\n",
       "        vertical-align: middle;\n",
       "    }\n",
       "\n",
       "    .dataframe tbody tr th {\n",
       "        vertical-align: top;\n",
       "    }\n",
       "\n",
       "    .dataframe thead th {\n",
       "        text-align: right;\n",
       "    }\n",
       "</style>\n",
       "<table border=\"1\" class=\"dataframe\">\n",
       "  <thead>\n",
       "    <tr style=\"text-align: right;\">\n",
       "      <th>attribute</th>\n",
       "      <th>bus</th>\n",
       "      <th>carrier</th>\n",
       "      <th>type</th>\n",
       "      <th>p_set</th>\n",
       "      <th>q_set</th>\n",
       "      <th>sign</th>\n",
       "    </tr>\n",
       "    <tr>\n",
       "      <th>Load</th>\n",
       "      <th></th>\n",
       "      <th></th>\n",
       "      <th></th>\n",
       "      <th></th>\n",
       "      <th></th>\n",
       "      <th></th>\n",
       "    </tr>\n",
       "  </thead>\n",
       "  <tbody>\n",
       "    <tr>\n",
       "      <th>Load</th>\n",
       "      <td>Bus Load</td>\n",
       "      <td></td>\n",
       "      <td></td>\n",
       "      <td>0.15</td>\n",
       "      <td>0.05</td>\n",
       "      <td>-1.0</td>\n",
       "    </tr>\n",
       "  </tbody>\n",
       "</table>\n",
       "</div>"
      ],
      "text/plain": [
       "attribute       bus carrier type  p_set  q_set  sign\n",
       "Load                                                \n",
       "Load       Bus Load                0.15   0.05  -1.0"
      ]
     },
     "execution_count": 11,
     "metadata": {},
     "output_type": "execute_result"
    }
   ],
   "source": [
    "n.loads"
   ]
  },
  {
   "cell_type": "markdown",
   "id": "65d0325f-32a0-494b-98d1-c917567a54ac",
   "metadata": {},
   "source": [
    "## Power flow estimation"
   ]
  },
  {
   "cell_type": "code",
   "execution_count": 12,
   "id": "24f8bb2a-485a-4c8d-8ea7-08b58540dd82",
   "metadata": {},
   "outputs": [
    {
     "name": "stderr",
     "output_type": "stream",
     "text": [
      "INFO:pypsa.pf:Performing non-linear load-flow on AC sub-network SubNetwork 0 for snapshots Index(['now'], dtype='object', name='snapshot')\n",
      "INFO:pypsa.pf:Newton-Raphson solved in 4 iterations with error of 0.000000 in 0.039347 seconds\n"
     ]
    },
    {
     "data": {
      "text/plain": [
       "{'n_iter': SubNetwork  0\n",
       " snapshot     \n",
       " now         4,\n",
       " 'error': SubNetwork             0\n",
       " snapshot                \n",
       " now         3.942300e-07,\n",
       " 'converged': SubNetwork     0\n",
       " snapshot        \n",
       " now         True}"
      ]
     },
     "execution_count": 12,
     "metadata": {},
     "output_type": "execute_result"
    }
   ],
   "source": [
    "n.pf()"
   ]
  },
  {
   "cell_type": "markdown",
   "id": "27ee01ba-b226-4bcc-a9a1-f2c3bf40d23d",
   "metadata": {},
   "source": [
    "What is the generator's active and reactive power?"
   ]
  },
  {
   "cell_type": "code",
   "execution_count": 13,
   "id": "e4f90ad8-5bd3-4f83-b79f-63ca27c23538",
   "metadata": {
    "scrolled": true
   },
   "outputs": [
    {
     "data": {
      "text/html": [
       "<div>\n",
       "<style scoped>\n",
       "    .dataframe tbody tr th:only-of-type {\n",
       "        vertical-align: middle;\n",
       "    }\n",
       "\n",
       "    .dataframe tbody tr th {\n",
       "        vertical-align: top;\n",
       "    }\n",
       "\n",
       "    .dataframe thead th {\n",
       "        text-align: right;\n",
       "    }\n",
       "</style>\n",
       "<table border=\"1\" class=\"dataframe\">\n",
       "  <thead>\n",
       "    <tr style=\"text-align: right;\">\n",
       "      <th>Generator</th>\n",
       "      <th>Generator</th>\n",
       "    </tr>\n",
       "    <tr>\n",
       "      <th>snapshot</th>\n",
       "      <th></th>\n",
       "    </tr>\n",
       "  </thead>\n",
       "  <tbody>\n",
       "    <tr>\n",
       "      <th>now</th>\n",
       "      <td>0.157809</td>\n",
       "    </tr>\n",
       "  </tbody>\n",
       "</table>\n",
       "</div>"
      ],
      "text/plain": [
       "Generator  Generator\n",
       "snapshot            \n",
       "now         0.157809"
      ]
     },
     "execution_count": 13,
     "metadata": {},
     "output_type": "execute_result"
    }
   ],
   "source": [
    "n.generators_t.p"
   ]
  },
  {
   "cell_type": "code",
   "execution_count": 14,
   "id": "dbd1d631-824b-4eaa-9eb6-cd8af678085e",
   "metadata": {},
   "outputs": [
    {
     "data": {
      "text/html": [
       "<div>\n",
       "<style scoped>\n",
       "    .dataframe tbody tr th:only-of-type {\n",
       "        vertical-align: middle;\n",
       "    }\n",
       "\n",
       "    .dataframe tbody tr th {\n",
       "        vertical-align: top;\n",
       "    }\n",
       "\n",
       "    .dataframe thead th {\n",
       "        text-align: right;\n",
       "    }\n",
       "</style>\n",
       "<table border=\"1\" class=\"dataframe\">\n",
       "  <thead>\n",
       "    <tr style=\"text-align: right;\">\n",
       "      <th>Generator</th>\n",
       "      <th>Generator</th>\n",
       "    </tr>\n",
       "    <tr>\n",
       "      <th>snapshot</th>\n",
       "      <th></th>\n",
       "    </tr>\n",
       "  </thead>\n",
       "  <tbody>\n",
       "    <tr>\n",
       "      <th>now</th>\n",
       "      <td>0.128093</td>\n",
       "    </tr>\n",
       "  </tbody>\n",
       "</table>\n",
       "</div>"
      ],
      "text/plain": [
       "Generator  Generator\n",
       "snapshot            \n",
       "now         0.128093"
      ]
     },
     "execution_count": 14,
     "metadata": {},
     "output_type": "execute_result"
    }
   ],
   "source": [
    "n.generators_t.q"
   ]
  },
  {
   "cell_type": "markdown",
   "id": "26f8a116-3117-4e2a-9aa6-e4b1bc445e1a",
   "metadata": {},
   "source": [
    "The active power over the line (the same on the generator side and the same on the load side):"
   ]
  },
  {
   "cell_type": "markdown",
   "id": "aa36a336-e410-4410-9c85-315cc7ac6c65",
   "metadata": {},
   "source": [
    "On the generator side:"
   ]
  },
  {
   "cell_type": "code",
   "execution_count": 15,
   "id": "686b2928-7b3e-4b6e-ba88-fb2d8def86cc",
   "metadata": {},
   "outputs": [
    {
     "data": {
      "text/html": [
       "<div>\n",
       "<style scoped>\n",
       "    .dataframe tbody tr th:only-of-type {\n",
       "        vertical-align: middle;\n",
       "    }\n",
       "\n",
       "    .dataframe tbody tr th {\n",
       "        vertical-align: top;\n",
       "    }\n",
       "\n",
       "    .dataframe thead th {\n",
       "        text-align: right;\n",
       "    }\n",
       "</style>\n",
       "<table border=\"1\" class=\"dataframe\">\n",
       "  <thead>\n",
       "    <tr style=\"text-align: right;\">\n",
       "      <th></th>\n",
       "      <th>Line</th>\n",
       "    </tr>\n",
       "    <tr>\n",
       "      <th>snapshot</th>\n",
       "      <th></th>\n",
       "    </tr>\n",
       "  </thead>\n",
       "  <tbody>\n",
       "    <tr>\n",
       "      <th>now</th>\n",
       "      <td>0.157809</td>\n",
       "    </tr>\n",
       "  </tbody>\n",
       "</table>\n",
       "</div>"
      ],
      "text/plain": [
       "              Line\n",
       "snapshot          \n",
       "now       0.157809"
      ]
     },
     "execution_count": 15,
     "metadata": {},
     "output_type": "execute_result"
    }
   ],
   "source": [
    "n.lines_t.p0"
   ]
  },
  {
   "cell_type": "markdown",
   "id": "bb6e3e37-f82f-4395-bca8-eaf19f8402cd",
   "metadata": {},
   "source": [
    "On the load side:"
   ]
  },
  {
   "cell_type": "code",
   "execution_count": 16,
   "id": "4787c375-40e3-4b7c-8f05-7f2ab097c954",
   "metadata": {},
   "outputs": [
    {
     "data": {
      "text/html": [
       "<div>\n",
       "<style scoped>\n",
       "    .dataframe tbody tr th:only-of-type {\n",
       "        vertical-align: middle;\n",
       "    }\n",
       "\n",
       "    .dataframe tbody tr th {\n",
       "        vertical-align: top;\n",
       "    }\n",
       "\n",
       "    .dataframe thead th {\n",
       "        text-align: right;\n",
       "    }\n",
       "</style>\n",
       "<table border=\"1\" class=\"dataframe\">\n",
       "  <thead>\n",
       "    <tr style=\"text-align: right;\">\n",
       "      <th></th>\n",
       "      <th>Line</th>\n",
       "    </tr>\n",
       "    <tr>\n",
       "      <th>snapshot</th>\n",
       "      <th></th>\n",
       "    </tr>\n",
       "  </thead>\n",
       "  <tbody>\n",
       "    <tr>\n",
       "      <th>now</th>\n",
       "      <td>-0.15</td>\n",
       "    </tr>\n",
       "  </tbody>\n",
       "</table>\n",
       "</div>"
      ],
      "text/plain": [
       "          Line\n",
       "snapshot      \n",
       "now      -0.15"
      ]
     },
     "execution_count": 16,
     "metadata": {},
     "output_type": "execute_result"
    }
   ],
   "source": [
    "n.lines_t.p1"
   ]
  },
  {
   "cell_type": "markdown",
   "id": "6b42fafe-7c1d-44e1-b8aa-0b12faa6c5f8",
   "metadata": {},
   "source": [
    "The power consumed at the load:"
   ]
  },
  {
   "cell_type": "code",
   "execution_count": 17,
   "id": "0cf51a18-d9fb-42c1-b3ea-f3c92a5ba5a4",
   "metadata": {},
   "outputs": [
    {
     "data": {
      "text/html": [
       "<div>\n",
       "<style scoped>\n",
       "    .dataframe tbody tr th:only-of-type {\n",
       "        vertical-align: middle;\n",
       "    }\n",
       "\n",
       "    .dataframe tbody tr th {\n",
       "        vertical-align: top;\n",
       "    }\n",
       "\n",
       "    .dataframe thead th {\n",
       "        text-align: right;\n",
       "    }\n",
       "</style>\n",
       "<table border=\"1\" class=\"dataframe\">\n",
       "  <thead>\n",
       "    <tr style=\"text-align: right;\">\n",
       "      <th>Load</th>\n",
       "      <th>Load</th>\n",
       "    </tr>\n",
       "    <tr>\n",
       "      <th>snapshot</th>\n",
       "      <th></th>\n",
       "    </tr>\n",
       "  </thead>\n",
       "  <tbody>\n",
       "    <tr>\n",
       "      <th>now</th>\n",
       "      <td>0.15</td>\n",
       "    </tr>\n",
       "  </tbody>\n",
       "</table>\n",
       "</div>"
      ],
      "text/plain": [
       "Load      Load\n",
       "snapshot      \n",
       "now       0.15"
      ]
     },
     "execution_count": 17,
     "metadata": {},
     "output_type": "execute_result"
    }
   ],
   "source": [
    "n.loads_t.p"
   ]
  },
  {
   "cell_type": "markdown",
   "id": "8143f741-f887-4573-8663-390d935b3b2e",
   "metadata": {},
   "source": [
    "What is the voltage angle between the generator and the load? The generator is selected as the slack, thus its angle is 0."
   ]
  },
  {
   "cell_type": "code",
   "execution_count": 18,
   "id": "fa62215e-4a87-40e1-b821-8b6c6f17ac08",
   "metadata": {},
   "outputs": [
    {
     "data": {
      "text/html": [
       "<div>\n",
       "<style scoped>\n",
       "    .dataframe tbody tr th:only-of-type {\n",
       "        vertical-align: middle;\n",
       "    }\n",
       "\n",
       "    .dataframe tbody tr th {\n",
       "        vertical-align: top;\n",
       "    }\n",
       "\n",
       "    .dataframe thead th {\n",
       "        text-align: right;\n",
       "    }\n",
       "</style>\n",
       "<table border=\"1\" class=\"dataframe\">\n",
       "  <thead>\n",
       "    <tr style=\"text-align: right;\">\n",
       "      <th>Bus</th>\n",
       "      <th>Bus Gen</th>\n",
       "      <th>Bus Load</th>\n",
       "    </tr>\n",
       "    <tr>\n",
       "      <th>snapshot</th>\n",
       "      <th></th>\n",
       "      <th></th>\n",
       "    </tr>\n",
       "  </thead>\n",
       "  <tbody>\n",
       "    <tr>\n",
       "      <th>now</th>\n",
       "      <td>0.0</td>\n",
       "      <td>-20.631335</td>\n",
       "    </tr>\n",
       "  </tbody>\n",
       "</table>\n",
       "</div>"
      ],
      "text/plain": [
       "Bus       Bus Gen   Bus Load\n",
       "snapshot                    \n",
       "now           0.0 -20.631335"
      ]
     },
     "execution_count": 18,
     "metadata": {},
     "output_type": "execute_result"
    }
   ],
   "source": [
    "n.buses_t.v_ang * 180 / 3.14159265359"
   ]
  },
  {
   "cell_type": "markdown",
   "id": "0329d1eb-344a-4245-b945-b237defd0591",
   "metadata": {},
   "source": [
    "The active power consumed at the load? "
   ]
  },
  {
   "cell_type": "code",
   "execution_count": 19,
   "id": "b4509b39-6776-4412-a6a0-3d409e8462ae",
   "metadata": {},
   "outputs": [
    {
     "data": {
      "text/html": [
       "<div>\n",
       "<style scoped>\n",
       "    .dataframe tbody tr th:only-of-type {\n",
       "        vertical-align: middle;\n",
       "    }\n",
       "\n",
       "    .dataframe tbody tr th {\n",
       "        vertical-align: top;\n",
       "    }\n",
       "\n",
       "    .dataframe thead th {\n",
       "        text-align: right;\n",
       "    }\n",
       "</style>\n",
       "<table border=\"1\" class=\"dataframe\">\n",
       "  <thead>\n",
       "    <tr style=\"text-align: right;\">\n",
       "      <th>Bus</th>\n",
       "      <th>Bus Gen</th>\n",
       "      <th>Bus Load</th>\n",
       "    </tr>\n",
       "    <tr>\n",
       "      <th>snapshot</th>\n",
       "      <th></th>\n",
       "      <th></th>\n",
       "    </tr>\n",
       "  </thead>\n",
       "  <tbody>\n",
       "    <tr>\n",
       "      <th>now</th>\n",
       "      <td>1.0</td>\n",
       "      <td>0.777916</td>\n",
       "    </tr>\n",
       "  </tbody>\n",
       "</table>\n",
       "</div>"
      ],
      "text/plain": [
       "Bus       Bus Gen  Bus Load\n",
       "snapshot                   \n",
       "now           1.0  0.777916"
      ]
     },
     "execution_count": 19,
     "metadata": {},
     "output_type": "execute_result"
    }
   ],
   "source": [
    "n.buses_t.v_mag_pu"
   ]
  },
  {
   "cell_type": "markdown",
   "id": "6dd4d20a-38e7-4ec6-b5a4-7baf6f267cae",
   "metadata": {},
   "source": [
    "### Installation and others"
   ]
  },
  {
   "cell_type": "markdown",
   "id": "9b57ad7e-1fce-4705-90f9-f80379acf718",
   "metadata": {},
   "source": [
    "To use `PyPSA` it is advised to have `anaconda`/`miniconda` installed. Then either:\n",
    "```\n",
    "pip install pypsa\n",
    "```\n",
    "or\n",
    "```\n",
    "conda install -c conda-forge pypsa\n",
    "```"
   ]
  },
  {
   "cell_type": "markdown",
   "id": "01960ecb-6909-47a3-b91b-81a8b370d244",
   "metadata": {},
   "source": [
    "This script was adapted from [`PyPSA`'s example for PF](https://github.com/PyPSA/PyPSA/blob/master/examples/notebooks/minimal_example_pf.ipynb) for the *FYS377 Digital Power Systems*, by *Heidi S. Nygård*, NMBU. Adapted by Leonardo Rydin Gorjão. 2023."
   ]
  }
 ],
 "metadata": {
  "kernelspec": {
   "display_name": "Python 3 (ipykernel)",
   "language": "python",
   "name": "python3"
  },
  "language_info": {
   "codemirror_mode": {
    "name": "ipython",
    "version": 3
   },
   "file_extension": ".py",
   "mimetype": "text/x-python",
   "name": "python",
   "nbconvert_exporter": "python",
   "pygments_lexer": "ipython3",
   "version": "3.11.6"
  }
 },
 "nbformat": 4,
 "nbformat_minor": 5
}
