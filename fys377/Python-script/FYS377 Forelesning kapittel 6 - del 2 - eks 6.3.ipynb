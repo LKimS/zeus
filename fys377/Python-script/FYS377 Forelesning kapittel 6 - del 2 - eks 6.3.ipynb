{
 "cells": [
  {
   "cell_type": "code",
   "execution_count": 17,
   "metadata": {},
   "outputs": [],
   "source": [
    "#Python-program til forelesning kapittel 6 - del 2\n",
    "#Eksempel 6.3 \n",
    "  \n",
    "# Importerterer nødvendig pakke\n",
    "import numpy as np"
   ]
  },
  {
   "cell_type": "code",
   "execution_count": 18,
   "metadata": {},
   "outputs": [
    {
     "name": "stdout",
     "output_type": "stream",
     "text": [
      "A= [[10  5]\n",
      " [ 2  9]]\n",
      "y= [6 3]\n"
     ]
    }
   ],
   "source": [
    "#Definerer matrise A og vektor y fra eksempel\n",
    "A=np.array([[10,5],[2,9]])\n",
    "y=np.array([6,3])\n",
    "print(\"A=\",A)\n",
    "print(\"y=\",y)"
   ]
  },
  {
   "cell_type": "code",
   "execution_count": 19,
   "metadata": {},
   "outputs": [
    {
     "name": "stdout",
     "output_type": "stream",
     "text": [
      "D= [[10  0]\n",
      " [ 0  9]]\n"
     ]
    }
   ],
   "source": [
    "#Definerer diagonalmatrisen etter Jacobi-definisjon\n",
    "D=np.diagflat(np.diag(A))\n",
    "print(\"D=\",D)"
   ]
  },
  {
   "cell_type": "code",
   "execution_count": 20,
   "metadata": {},
   "outputs": [
    {
     "name": "stdout",
     "output_type": "stream",
     "text": [
      "Dinv= [[0.1        0.        ]\n",
      " [0.         0.11111111]]\n"
     ]
    }
   ],
   "source": [
    "#Definerer inversmatrisen \n",
    "Dinv=np.linalg.inv(D)\n",
    "print(\"Dinv=\",Dinv)"
   ]
  },
  {
   "cell_type": "code",
   "execution_count": 21,
   "metadata": {},
   "outputs": [
    {
     "name": "stdout",
     "output_type": "stream",
     "text": [
      "M= [[ 0.         -0.5       ]\n",
      " [-0.22222222  0.        ]]\n"
     ]
    }
   ],
   "source": [
    "#Definerer M-matrisen\n",
    "M=np.matmul(Dinv,(D-A))\n",
    "print(\"M=\",M)"
   ]
  },
  {
   "cell_type": "code",
   "execution_count": 22,
   "metadata": {},
   "outputs": [
    {
     "name": "stdout",
     "output_type": "stream",
     "text": [
      "x0= [0 0]\n"
     ]
    }
   ],
   "source": [
    "#Gjetter på første løsning\n",
    "x0=np.array([0,0])\n",
    "print(\"x0=\",x0)"
   ]
  },
  {
   "cell_type": "code",
   "execution_count": 23,
   "metadata": {},
   "outputs": [
    {
     "name": "stdout",
     "output_type": "stream",
     "text": [
      "x1= [0.6        0.33333333]\n"
     ]
    }
   ],
   "source": [
    "#Første iterasjon\n",
    "x1=np.matmul(M,x0)+np.matmul(Dinv,y)\n",
    "print(\"x1=\",x1)"
   ]
  },
  {
   "cell_type": "code",
   "execution_count": 24,
   "metadata": {},
   "outputs": [
    {
     "name": "stdout",
     "output_type": "stream",
     "text": [
      "x2= [0.43333333 0.2       ]\n",
      "eps= [-0.27777778 -0.4       ]\n"
     ]
    }
   ],
   "source": [
    "#Andre iterasjon, beregner også feil epsilon\n",
    "x2=np.matmul(M,x1)+np.matmul(Dinv,y)\n",
    "eps=((x2-x1)/x1)\n",
    "print(\"x2=\",x2)\n",
    "print(\"eps=\",eps)"
   ]
  },
  {
   "cell_type": "code",
   "execution_count": 25,
   "metadata": {},
   "outputs": [],
   "source": [
    "#automatiserer gjennom en funksjon\n",
    "def jacobi(A,y,N,x):\n",
    "    \"\"\"Løser ligning Ax=b med iterativ Jacobi-metode\"\"\"\n",
    "    #Beregner D, Dinv og M                                                                                                                                             \n",
    "    D=np.diagflat(np.diag(A))\n",
    "    Dinv=np.linalg.inv(D)\n",
    "    M=np.matmul(Dinv,(D-A))\n",
    "    \n",
    "    # Itererer N ganger                                                                                                                                                                          \n",
    "    for i in range(N):\n",
    "        x = np.matmul(M,x)+np.matmul(Dinv,y)\n",
    "        print(i,x)\n",
    "    return x"
   ]
  },
  {
   "cell_type": "code",
   "execution_count": 26,
   "metadata": {},
   "outputs": [],
   "source": [
    "#Definerer matrise A og vektor y fra eksempel\n",
    "A=np.array([[10,5],[2,9]])\n",
    "y=np.array([6,3])\n",
    "guess=np.array([0,0])"
   ]
  },
  {
   "cell_type": "code",
   "execution_count": 27,
   "metadata": {},
   "outputs": [
    {
     "name": "stdout",
     "output_type": "stream",
     "text": [
      "0 [0.6        0.33333333]\n",
      "1 [0.43333333 0.2       ]\n",
      "2 [0.5        0.23703704]\n",
      "3 [0.48148148 0.22222222]\n",
      "4 [0.48888889 0.22633745]\n",
      "5 [0.48683128 0.22469136]\n",
      "6 [0.48765432 0.22514861]\n",
      "7 [0.4874257  0.22496571]\n",
      "8 [0.48751715 0.22501651]\n",
      "9 [0.48749174 0.22499619]\n",
      "10 [0.48750191 0.22500183]\n",
      "11 [0.48749908 0.22499958]\n",
      "12 [0.48750021 0.2250002 ]\n",
      "13 [0.4874999  0.22499995]\n",
      "14 [0.48750002 0.22500002]\n",
      "15 [0.48749999 0.22499999]\n",
      "16 [0.4875 0.225 ]\n",
      "17 [0.4875 0.225 ]\n",
      "18 [0.4875 0.225 ]\n",
      "19 [0.4875 0.225 ]\n",
      "20 [0.4875 0.225 ]\n",
      "21 [0.4875 0.225 ]\n",
      "22 [0.4875 0.225 ]\n",
      "23 [0.4875 0.225 ]\n",
      "24 [0.4875 0.225 ]\n"
     ]
    },
    {
     "data": {
      "text/plain": [
       "array([0.4875, 0.225 ])"
      ]
     },
     "execution_count": 27,
     "metadata": {},
     "output_type": "execute_result"
    }
   ],
   "source": [
    "jacobi(A,y,25,x=guess)"
   ]
  },
  {
   "cell_type": "code",
   "execution_count": null,
   "metadata": {},
   "outputs": [],
   "source": []
  },
  {
   "cell_type": "code",
   "execution_count": null,
   "metadata": {},
   "outputs": [],
   "source": []
  }
 ],
 "metadata": {
  "kernelspec": {
   "display_name": "Python 3 (ipykernel)",
   "language": "python",
   "name": "python3"
  },
  "language_info": {
   "codemirror_mode": {
    "name": "ipython",
    "version": 3
   },
   "file_extension": ".py",
   "mimetype": "text/x-python",
   "name": "python",
   "nbconvert_exporter": "python",
   "pygments_lexer": "ipython3",
   "version": "3.9.12"
  }
 },
 "nbformat": 4,
 "nbformat_minor": 2
}
