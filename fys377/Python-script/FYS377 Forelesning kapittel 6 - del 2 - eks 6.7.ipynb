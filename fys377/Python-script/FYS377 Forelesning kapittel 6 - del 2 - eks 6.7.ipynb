{
 "cells": [
  {
   "cell_type": "code",
   "execution_count": 1,
   "metadata": {},
   "outputs": [],
   "source": [
    "import sympy as sym"
   ]
  },
  {
   "cell_type": "code",
   "execution_count": 2,
   "metadata": {},
   "outputs": [],
   "source": [
    "#Funksjon for å finne Jacobi-matrisen som vi trenger til Newton-Raphson\n",
    "def Jacobian(v_str,f_list):\n",
    "    vars = sym.symbols(v_str)\n",
    "    f=sym.sympify(f_list) \n",
    "    J=sym.zeros(len(f),len(vars))\n",
    "    for i, fi in enumerate(f):\n",
    "        for j, s in enumerate(vars):\n",
    "            J[i,j]=sym.diff(fi,s)\n",
    "    return J"
   ]
  },
  {
   "cell_type": "markdown",
   "metadata": {},
   "source": [
    "Eksempel 6.7"
   ]
  },
  {
   "cell_type": "code",
   "execution_count": 3,
   "metadata": {},
   "outputs": [
    {
     "name": "stdout",
     "output_type": "stream",
     "text": [
      "x1 x2\n"
     ]
    }
   ],
   "source": [
    "#Definerer hvilke symboler som skal brukes\n",
    "x1,x2=sym.symbols('x1,x2')\n",
    "print(x1,x2)"
   ]
  },
  {
   "cell_type": "code",
   "execution_count": 4,
   "metadata": {},
   "outputs": [
    {
     "data": {
      "text/latex": [
       "$\\displaystyle \\left[\\begin{matrix}x_{1}\\\\x_{2}\\end{matrix}\\right]$"
      ],
      "text/plain": [
       "Matrix([\n",
       "[x1],\n",
       "[x2]])"
      ]
     },
     "execution_count": 4,
     "metadata": {},
     "output_type": "execute_result"
    }
   ],
   "source": [
    "#Matrise med ukjente\n",
    "xi=sym.Matrix([x1,x2])\n",
    "xi"
   ]
  },
  {
   "cell_type": "code",
   "execution_count": 5,
   "metadata": {},
   "outputs": [
    {
     "data": {
      "text/latex": [
       "$\\displaystyle \\left[\\begin{matrix}x_{1} + x_{2}\\\\x_{1} x_{2}\\end{matrix}\\right]$"
      ],
      "text/plain": [
       "Matrix([\n",
       "[x1 + x2],\n",
       "[  x1*x2]])"
      ]
     },
     "execution_count": 5,
     "metadata": {},
     "output_type": "execute_result"
    }
   ],
   "source": [
    "#Funksjonsmatrisen\n",
    "fmatrix=sym.Matrix([x1+x2,x1*x2])\n",
    "fmatrix"
   ]
  },
  {
   "cell_type": "code",
   "execution_count": 6,
   "metadata": {},
   "outputs": [
    {
     "data": {
      "text/latex": [
       "$\\displaystyle \\left[\\begin{matrix}15\\\\50\\end{matrix}\\right]$"
      ],
      "text/plain": [
       "Matrix([\n",
       "[15],\n",
       "[50]])"
      ]
     },
     "execution_count": 6,
     "metadata": {},
     "output_type": "execute_result"
    }
   ],
   "source": [
    "#y-matrisen\n",
    "y=sym.Matrix([15,50])\n",
    "y"
   ]
  },
  {
   "cell_type": "code",
   "execution_count": 7,
   "metadata": {},
   "outputs": [
    {
     "data": {
      "text/latex": [
       "$\\displaystyle \\left[\\begin{matrix}1 & 1\\\\x_{2} & x_{1}\\end{matrix}\\right]$"
      ],
      "text/plain": [
       "Matrix([\n",
       "[ 1,  1],\n",
       "[x2, x1]])"
      ]
     },
     "execution_count": 7,
     "metadata": {},
     "output_type": "execute_result"
    }
   ],
   "source": [
    "#Bruker definert funksjon til å finne Jacobi-matrisen\n",
    "Jmatrix=Jacobian('x1,x2',fmatrix)\n",
    "Jmatrix"
   ]
  },
  {
   "cell_type": "code",
   "execution_count": 8,
   "metadata": {},
   "outputs": [
    {
     "data": {
      "text/latex": [
       "$\\displaystyle \\left[\\begin{matrix}\\frac{x_{1}}{x_{1} - x_{2}} & - \\frac{1}{x_{1} - x_{2}}\\\\- \\frac{x_{2}}{x_{1} - x_{2}} & \\frac{1}{x_{1} - x_{2}}\\end{matrix}\\right]$"
      ],
      "text/plain": [
       "Matrix([\n",
       "[ x1/(x1 - x2), -1/(x1 - x2)],\n",
       "[-x2/(x1 - x2),  1/(x1 - x2)]])"
      ]
     },
     "execution_count": 8,
     "metadata": {},
     "output_type": "execute_result"
    }
   ],
   "source": [
    "#Finner invers av Jacobi-matrisen\n",
    "Jmatrixinv=Jmatrix.inv()\n",
    "Jmatrixinv"
   ]
  },
  {
   "cell_type": "code",
   "execution_count": 9,
   "metadata": {},
   "outputs": [
    {
     "data": {
      "text/latex": [
       "$\\displaystyle \\left[\\begin{matrix}x_{1} + \\frac{x_{1} \\left(- x_{1} - x_{2} + 15\\right)}{x_{1} - x_{2}} - \\frac{- x_{1} x_{2} + 50}{x_{1} - x_{2}}\\\\x_{2} - \\frac{x_{2} \\left(- x_{1} - x_{2} + 15\\right)}{x_{1} - x_{2}} + \\frac{- x_{1} x_{2} + 50}{x_{1} - x_{2}}\\end{matrix}\\right]$"
      ],
      "text/plain": [
       "Matrix([\n",
       "[x1 + x1*(-x1 - x2 + 15)/(x1 - x2) - (-x1*x2 + 50)/(x1 - x2)],\n",
       "[x2 - x2*(-x1 - x2 + 15)/(x1 - x2) + (-x1*x2 + 50)/(x1 - x2)]])"
      ]
     },
     "execution_count": 9,
     "metadata": {},
     "output_type": "execute_result"
    }
   ],
   "source": [
    "#Finner uttrykk for neste iterasjon ved ligning 6.3.9\n",
    "sol=xi+Jmatrixinv*(y-fmatrix)\n",
    "sol"
   ]
  },
  {
   "cell_type": "code",
   "execution_count": 10,
   "metadata": {},
   "outputs": [
    {
     "name": "stdout",
     "output_type": "stream",
     "text": [
      "i=0:\n"
     ]
    },
    {
     "data": {
      "text/latex": [
       "$\\displaystyle \\left[\\begin{matrix}4.0\\\\9.0\\end{matrix}\\right]$"
      ],
      "text/plain": [
       "Matrix([\n",
       "[4.0],\n",
       "[9.0]])"
      ]
     },
     "execution_count": 10,
     "metadata": {},
     "output_type": "execute_result"
    }
   ],
   "source": [
    "#Definerer første gjetning\n",
    "guess=sym.Matrix([4.,9.])\n",
    "print('i=0:')\n",
    "guess"
   ]
  },
  {
   "cell_type": "code",
   "execution_count": 11,
   "metadata": {},
   "outputs": [
    {
     "name": "stdout",
     "output_type": "stream",
     "text": [
      "i=1:\n"
     ]
    },
    {
     "data": {
      "text/latex": [
       "$\\displaystyle \\left[\\begin{matrix}5.2\\\\9.8\\end{matrix}\\right]$"
      ],
      "text/plain": [
       "Matrix([\n",
       "[5.2],\n",
       "[9.8]])"
      ]
     },
     "execution_count": 11,
     "metadata": {},
     "output_type": "execute_result"
    }
   ],
   "source": [
    "#Første iterasjon\n",
    "it1=sol.subs(x1,guess[0]).subs(x2,guess[1])\n",
    "print('i=1:')\n",
    "it1"
   ]
  },
  {
   "cell_type": "code",
   "execution_count": 12,
   "metadata": {},
   "outputs": [
    {
     "data": {
      "text/plain": [
       "[0.300000000000000, 0.0888888888888888]"
      ]
     },
     "execution_count": 12,
     "metadata": {},
     "output_type": "execute_result"
    }
   ],
   "source": [
    "#Feil relativt til forrige iterasjon\n",
    "[(it1[0]-guess[0])/guess[0],(it1[1]-guess[1])/guess[1]]"
   ]
  },
  {
   "cell_type": "code",
   "execution_count": 13,
   "metadata": {},
   "outputs": [
    {
     "name": "stdout",
     "output_type": "stream",
     "text": [
      "i=2:\n"
     ]
    },
    {
     "data": {
      "text/latex": [
       "$\\displaystyle \\left[\\begin{matrix}4.99130434782609\\\\10.0086956521739\\end{matrix}\\right]$"
      ],
      "text/plain": [
       "Matrix([\n",
       "[4.99130434782609],\n",
       "[10.0086956521739]])"
      ]
     },
     "execution_count": 13,
     "metadata": {},
     "output_type": "execute_result"
    }
   ],
   "source": [
    "#Andre iterasjon\n",
    "it2=sol.subs(x1,it1[0]).subs(x2,it1[1])\n",
    "print('i=2:')\n",
    "it2"
   ]
  },
  {
   "cell_type": "code",
   "execution_count": 14,
   "metadata": {},
   "outputs": [
    {
     "data": {
      "text/plain": [
       "[-0.0401337792642143, 0.0212954747116240]"
      ]
     },
     "execution_count": 14,
     "metadata": {},
     "output_type": "execute_result"
    }
   ],
   "source": [
    "#Feil relativt til forrige iterasjon\n",
    "[(it2[0]-it1[0])/it1[0],(it2[1]-it1[1])/it1[1]]"
   ]
  },
  {
   "cell_type": "code",
   "execution_count": 15,
   "metadata": {},
   "outputs": [
    {
     "name": "stdout",
     "output_type": "stream",
     "text": [
      "i=3:\n"
     ]
    },
    {
     "data": {
      "text/latex": [
       "$\\displaystyle \\left[\\begin{matrix}4.99998492954563\\\\10.0000150704544\\end{matrix}\\right]$"
      ],
      "text/plain": [
       "Matrix([\n",
       "[4.99998492954563],\n",
       "[10.0000150704544]])"
      ]
     },
     "execution_count": 15,
     "metadata": {},
     "output_type": "execute_result"
    }
   ],
   "source": [
    "#Tredje iterasjon\n",
    "it3=sol.subs(x1,it2[0]).subs(x2,it2[1])\n",
    "print('i=3:')\n",
    "it3"
   ]
  },
  {
   "cell_type": "code",
   "execution_count": 16,
   "metadata": {},
   "outputs": [
    {
     "data": {
      "text/plain": [
       "[0.00173914093684166, -0.000867303994567608]"
      ]
     },
     "execution_count": 16,
     "metadata": {},
     "output_type": "execute_result"
    }
   ],
   "source": [
    "#Feil relativt til forrige iterasjon\n",
    "[(it3[0]-it2[0])/it2[0],(it3[1]-it2[1])/it2[1]]"
   ]
  },
  {
   "cell_type": "code",
   "execution_count": 17,
   "metadata": {},
   "outputs": [
    {
     "name": "stdout",
     "output_type": "stream",
     "text": [
      "i=4:\n"
     ]
    },
    {
     "data": {
      "text/latex": [
       "$\\displaystyle \\left[\\begin{matrix}4.99999999995458\\\\10.0000000000454\\end{matrix}\\right]$"
      ],
      "text/plain": [
       "Matrix([\n",
       "[4.99999999995458],\n",
       "[10.0000000000454]])"
      ]
     },
     "execution_count": 17,
     "metadata": {},
     "output_type": "execute_result"
    }
   ],
   "source": [
    "#Fjerde iterasjon\n",
    "it4=sol.subs(x1,it3[0]).subs(x2,it3[1])\n",
    "print('i=4:')\n",
    "it4"
   ]
  },
  {
   "cell_type": "code",
   "execution_count": 18,
   "metadata": {},
   "outputs": [
    {
     "data": {
      "text/plain": [
       "[3.01409087458655e-6, -1.50703862356806e-6]"
      ]
     },
     "execution_count": 18,
     "metadata": {},
     "output_type": "execute_result"
    }
   ],
   "source": [
    "#Feil relativt til forrige iterasjon\n",
    "[(it4[0]-it3[0])/it3[0],(it4[1]-it3[1])/it3[1]]"
   ]
  },
  {
   "cell_type": "markdown",
   "metadata": {},
   "source": [
    "Vi er nå innenfor definert toleransenivå (10^-4) og ser at Newton-Raphson har konvergert i løpet av 4 iterasjoner"
   ]
  },
  {
   "cell_type": "code",
   "execution_count": null,
   "metadata": {},
   "outputs": [],
   "source": []
  },
  {
   "cell_type": "code",
   "execution_count": null,
   "metadata": {},
   "outputs": [],
   "source": []
  }
 ],
 "metadata": {
  "kernelspec": {
   "display_name": "Python 3 (ipykernel)",
   "language": "python",
   "name": "python3"
  },
  "language_info": {
   "codemirror_mode": {
    "name": "ipython",
    "version": 3
   },
   "file_extension": ".py",
   "mimetype": "text/x-python",
   "name": "python",
   "nbconvert_exporter": "python",
   "pygments_lexer": "ipython3",
   "version": "3.9.12"
  }
 },
 "nbformat": 4,
 "nbformat_minor": 2
}
